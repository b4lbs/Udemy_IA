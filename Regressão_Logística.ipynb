{
  "nbformat": 4,
  "nbformat_minor": 0,
  "metadata": {
    "colab": {
      "name": "Regressão_Logística.ipynb",
      "provenance": [],
      "authorship_tag": "ABX9TyNR81Or0GTR03VCkwbXz1C+",
      "include_colab_link": true
    },
    "kernelspec": {
      "name": "python3",
      "display_name": "Python 3"
    },
    "language_info": {
      "name": "python"
    }
  },
  "cells": [
    {
      "cell_type": "markdown",
      "metadata": {
        "id": "view-in-github",
        "colab_type": "text"
      },
      "source": [
        "<a href=\"https://colab.research.google.com/github/b4lbs/Udemy_IA/blob/main/Regress%C3%A3o_Log%C3%ADstica.ipynb\" target=\"_parent\"><img src=\"https://colab.research.google.com/assets/colab-badge.svg\" alt=\"Open In Colab\"/></a>"
      ]
    },
    {
      "cell_type": "markdown",
      "source": [
        "Modo de aprendizagem de máquina de classificação\n"
      ],
      "metadata": {
        "id": "4N9CZsG8gxbT"
      }
    },
    {
      "cell_type": "markdown",
      "source": [
        "Utiliza alguns métodos de Regressão Linear"
      ],
      "metadata": {
        "id": "UkeXHE-JhKXM"
      }
    },
    {
      "cell_type": "markdown",
      "source": [
        "Predizer uma probabilidade"
      ],
      "metadata": {
        "id": "E6cBlbZBhaoh"
      }
    },
    {
      "cell_type": "markdown",
      "source": [
        "Utiliza Função Sigmoide \n",
        "Encontrar a melhor linha para encaixar nos dados"
      ],
      "metadata": {
        "id": "e6SmloWhhoJB"
      }
    },
    {
      "cell_type": "code",
      "source": [
        "import pickle\n",
        "with open('risco_credito.pkl', 'rb') as f:\n",
        "  X_risco_credito, y_risco_credito = pickle.load(f)"
      ],
      "metadata": {
        "id": "NGF9Pujyg9QU"
      },
      "execution_count": 1,
      "outputs": []
    },
    {
      "cell_type": "code",
      "source": [
        "import numpy as np\n"
      ],
      "metadata": {
        "id": "MM5vA8SnoIMc"
      },
      "execution_count": 2,
      "outputs": []
    },
    {
      "cell_type": "code",
      "source": [
        "X_risco_credito\n"
      ],
      "metadata": {
        "colab": {
          "base_uri": "https://localhost:8080/"
        },
        "id": "lW_-TXB4ndPh",
        "outputId": "e6ffa561-1581-45d2-dfd0-908a2fe90253"
      },
      "execution_count": 3,
      "outputs": [
        {
          "output_type": "execute_result",
          "data": {
            "text/plain": [
              "array([[2, 0, 1, 0],\n",
              "       [1, 0, 1, 1],\n",
              "       [1, 1, 1, 1],\n",
              "       [1, 1, 1, 2],\n",
              "       [1, 1, 1, 2],\n",
              "       [1, 1, 0, 2],\n",
              "       [2, 1, 1, 0],\n",
              "       [2, 1, 0, 2],\n",
              "       [0, 1, 1, 2],\n",
              "       [0, 0, 0, 2],\n",
              "       [0, 0, 1, 0],\n",
              "       [0, 0, 1, 1],\n",
              "       [0, 0, 1, 2],\n",
              "       [2, 0, 1, 1]], dtype=object)"
            ]
          },
          "metadata": {},
          "execution_count": 3
        }
      ]
    },
    {
      "cell_type": "code",
      "source": [
        "y_risco_credito"
      ],
      "metadata": {
        "colab": {
          "base_uri": "https://localhost:8080/"
        },
        "id": "X6H0sTCFnjuE",
        "outputId": "c80d6da3-4a1e-482a-b285-0fefb0e52b72"
      },
      "execution_count": 4,
      "outputs": [
        {
          "output_type": "execute_result",
          "data": {
            "text/plain": [
              "array(['alto', 'alto', 'moderado', 'alto', 'baixo', 'baixo', 'alto',\n",
              "       'moderado', 'baixo', 'baixo', 'alto', 'moderado', 'baixo', 'alto'],\n",
              "      dtype=object)"
            ]
          },
          "metadata": {},
          "execution_count": 4
        }
      ]
    },
    {
      "cell_type": "code",
      "source": [
        "#REMOVENDO OS DADOS QUE INCLUEM RISCO MODERADO, DEIXANDO APENAS RISCO ALTO E BAIXO \n",
        "X_risco_credito = np.delete(X_risco_credito, [2,7,11], axis=0)\n",
        "y_risco_credito = np.delete(y_risco_credito, [2,7,11], axis=0)"
      ],
      "metadata": {
        "id": "_pFcuGw1oL5h"
      },
      "execution_count": 5,
      "outputs": []
    },
    {
      "cell_type": "code",
      "source": [
        "from sklearn.linear_model import LogisticRegression"
      ],
      "metadata": {
        "id": "4nJj_HcGzqVX"
      },
      "execution_count": 6,
      "outputs": []
    },
    {
      "cell_type": "code",
      "source": [
        "logistic_risco_credit = LogisticRegression(random_state= 1)"
      ],
      "metadata": {
        "id": "ypqqKZdsz4Rk"
      },
      "execution_count": 7,
      "outputs": []
    },
    {
      "cell_type": "code",
      "source": [
        "logistic_risco_credit.fit(X_risco_credito, y_risco_credito)"
      ],
      "metadata": {
        "colab": {
          "base_uri": "https://localhost:8080/"
        },
        "id": "0REB5Ftp0HQX",
        "outputId": "50a235aa-1d55-4429-abb8-6a77ce2fdb70"
      },
      "execution_count": 8,
      "outputs": [
        {
          "output_type": "execute_result",
          "data": {
            "text/plain": [
              "LogisticRegression(random_state=1)"
            ]
          },
          "metadata": {},
          "execution_count": 8
        }
      ]
    },
    {
      "cell_type": "code",
      "source": [
        "prev = logistic_risco_credit.predict([[0,0,1,2],[2,0,0,0]])"
      ],
      "metadata": {
        "id": "0nhmg5370SGV"
      },
      "execution_count": 9,
      "outputs": []
    },
    {
      "cell_type": "code",
      "source": [
        "prev"
      ],
      "metadata": {
        "colab": {
          "base_uri": "https://localhost:8080/"
        },
        "id": "1XqdPNRT04Cd",
        "outputId": "3c70d395-503b-4a27-99e4-87c4d3c8891f"
      },
      "execution_count": 10,
      "outputs": [
        {
          "output_type": "execute_result",
          "data": {
            "text/plain": [
              "array(['baixo', 'alto'], dtype=object)"
            ]
          },
          "metadata": {},
          "execution_count": 10
        }
      ]
    }
  ]
}